{
  "nbformat": 4,
  "nbformat_minor": 0,
  "metadata": {
    "colab": {
      "name": "Python102Example.ipynb",
      "version": "0.3.2",
      "views": {},
      "default_view": {},
      "provenance": [],
      "collapsed_sections": []
    },
    "kernelspec": {
      "name": "python3",
      "display_name": "Python 3"
    }
  },
  "cells": [
    {
      "metadata": {
        "id": "IqqhWm0cV3pf",
        "colab_type": "code",
        "colab": {
          "autoexec": {
            "startup": false,
            "wait_interval": 0
          }
        }
      },
      "cell_type": "code",
      "source": [
        "# import dependencies\n",
        "import matplotlib.pyplot as plt\n",
        "import numpy as np\n",
        "import operator\n",
        "\n",
        "# define all the methods\n",
        "def players_as_dictionaries(squads_list):\n",
        "    list_of_players = []\n",
        "    \n",
        "    for player in squads_list:\n",
        "        player_as_dict = {}\n",
        "        player_as_dict['number'] = player[0]\n",
        "        player_as_dict['position'] = player[1]\n",
        "        player_as_dict['name'] = player[2]\n",
        "        player_as_dict['date_of_birth'] = player[3]\n",
        "        player_as_dict['caps'] = player[4]\n",
        "        player_as_dict['club'] = player[5]\n",
        "        player_as_dict['country'] = player[6]\n",
        "        player_as_dict['club_country'] = player[7]\n",
        "        player_as_dict['year'] = player[8]\n",
        "        list_of_players.append(player_as_dict)\n",
        "    \n",
        "    return list_of_players\n",
        "  \n",
        "def players_by_position(squads_list):\n",
        "    list_of_players = players_as_dictionaries(squads_list)\n",
        "    dictionary_of_players_by_position = {}\n",
        "\n",
        "    for player in list_of_players:\n",
        "        position = player['position']\n",
        "        if position not in dictionary_of_players_by_position.keys():\n",
        "            dictionary_of_players_by_position[position] = []\n",
        "        dictionary_of_players_by_position[position].append(player)\n",
        "\n",
        "    return dictionary_of_players_by_position\n",
        "  \n",
        "def players_by_country_and_position(squads_list):   \n",
        "    result_dict = {}\n",
        "    for player in squads_list:\n",
        "        country = player[6]\n",
        "        if country not in result_dict.keys():\n",
        "            result_dict[country] = []\n",
        "        result_dict[country].append(player)\n",
        "        \n",
        "    for country, players in result_dict.items():\n",
        "        result_dict[country] = players_by_position(result_dict[country])\n",
        "\n",
        "    print(result_dict.keys())\n",
        "    \n",
        "    return result_dict\n",
        "  \n",
        "def print_total_players_by_position(position, totalPlayers):\n",
        "  print(\"Position\", position, \":\", totalPlayers, \"players(s)\")\n",
        "  \n",
        "  \n",
        "# squads data\n",
        "SQUADS_DATA = [\n",
        "  [\n",
        "    \"-\",\n",
        "    \"FB\",\n",
        "    \"Pascal\",\n",
        "    \"(1908-10-23)23 October 1908 (aged 21)\",\n",
        "    \"\",\n",
        "    \"Quilmes\",\n",
        "    \"Brazil\",\n",
        "    \"Argentina\",\n",
        "    \"1930\"\n",
        "  ],\n",
        "  [\n",
        "    \"-\",\n",
        "    \"GK\",\n",
        "    \"Raimi\",\n",
        "    \"(1908-10-23)23 October 1908 (aged 21)\",\n",
        "    \"\",\n",
        "    \"Quilmes\",\n",
        "    \"Malaysia\",\n",
        "    \"Argentina\",\n",
        "    \"1930\"\n",
        "  ],\n",
        "  [\n",
        "    \"1\",\n",
        "    \"GK\",\n",
        "    \"Juan Botasso\",\n",
        "    \"(1908-10-23)23 October 1908 (aged 21)\",\n",
        "    \"\",\n",
        "    \"Quilmes\",\n",
        "    \"Argentina\",\n",
        "    \"Argentina\",\n",
        "    \"1930\"\n",
        "  ],\n",
        "  [\n",
        "    \"9\",\n",
        "    \"FW\",\n",
        "    \"Roberto Cherro\",\n",
        "    \"(1907-02-23)23 February 1907 (aged 23)\",\n",
        "    \"\",\n",
        "    \"Boca Juniors\",\n",
        "    \"Argentina\",\n",
        "    \"Argentina\",\n",
        "    \"1930\"\n",
        "  ],\n",
        "  [\n",
        "    \"-\",\n",
        "    \"MF\",\n",
        "    \"Pierre Braine\",\n",
        "    \"(1900-10-26)26 October 1900 (aged 29)\",\n",
        "    \"42\",\n",
        "    \"Royal Beerschot AC\",\n",
        "    \"Belgium\",\n",
        "    \"Belgium\",\n",
        "    \"1930\"\n",
        "  ],\n",
        "  [\n",
        "    \"-\",\n",
        "    \"MF\",\n",
        "    \"Alexis Chantraine\",\n",
        "    \"(1901-03-16)16 March 1901 (aged 29)\",\n",
        "    \"0\",\n",
        "    \"Royal FC Liegeois\",\n",
        "    \"Belgium\",\n",
        "    \"Belgium\",\n",
        "    \"1930\"\n",
        "  ],\n",
        "  [\n",
        "    \"-\",\n",
        "    \"GK\",\n",
        "    \"Jean De Bie\",\n",
        "    \"(1892-05-09)9 May 1892 (aged 38)\",\n",
        "    \"37\",\n",
        "    \"Royal Racing Club de Bruxelles\",\n",
        "    \"Belgium\",\n",
        "    \"Belgium\",\n",
        "    \"1930\"\n",
        "  ],\n",
        "  [\n",
        "    \"-\",\n",
        "    \"MF\",\n",
        "    \"Oscar\",\n",
        "    \"(1991-09-09)9 September 1991 (aged 22)\",\n",
        "    \"29\",\n",
        "    \"Chelsea\",\n",
        "    \"Brazil\",\n",
        "    \"England\",\n",
        "    \"2010\"\n",
        "  ],\n",
        "  [\n",
        "    \"-\",\n",
        "    \"MF\",\n",
        "    \"Paulinho\",\n",
        "    \"(1988-07-25)25 July 1988 (aged 25)\",\n",
        "    \"25\",\n",
        "    \"Tottenham Hotspur\",\n",
        "    \"Brazil\",\n",
        "    \"England\",\n",
        "    \"2010\"\n",
        "  ],\n",
        "  [\n",
        "    \"-\",\n",
        "    \"MF\",\n",
        "    \"Hernanes\",\n",
        "    \"(1985-05-29)29 May 1985 (aged 29)\",\n",
        "    \"23\",\n",
        "    \"Internazionale\",\n",
        "    \"Brazil\",\n",
        "    \"Italy\",\n",
        "    \"2014\"\n",
        "  ],\n",
        "  [\n",
        "    \"-\",\n",
        "    \"MF\",\n",
        "    \"Luiz Gustavo\",\n",
        "    \"(1987-07-23)23 July 1987 (aged 26)\",\n",
        "    \"17\",\n",
        "    \"VfL Wolfsburg\",\n",
        "    \"Brazil\",\n",
        "    \"Germany\",\n",
        "    \"2014\"\n",
        "  ],\n",
        "  [\n",
        "    \"-\",\n",
        "    \"MF\",\n",
        "    \"Fernandinho\",\n",
        "    \"(1985-05-04)4 May 1985 (aged 29)\",\n",
        "    \"6\",\n",
        "    \"Manchester City\",\n",
        "    \"Brazil\",\n",
        "    \"England\",\n",
        "    \"2014\"\n",
        "  ],\n",
        "  [\n",
        "    \"-\",\n",
        "    \"MF\",\n",
        "    \"Willian\",\n",
        "    \"(1988-08-09)9 August 1988 (aged 25)\",\n",
        "    \"5\",\n",
        "    \"Chelsea\",\n",
        "    \"Brazil\",\n",
        "    \"England\",\n",
        "    \"2014\"\n",
        "  ],\n",
        "  [\n",
        "    \"-\",\n",
        "    \"FW\",\n",
        "    \"Lee Keun-Ho\",\n",
        "    \"(1985-04-11)11 April 1985 (aged 29)\",\n",
        "    \"62\",\n",
        "    \"Sangju Sangmu\",\n",
        "    \"South Korea\",\n",
        "    \"South Korea\",\n",
        "    \"2014\"\n",
        "  ],\n",
        "  [\n",
        "    \"-\",\n",
        "    \"FW\",\n",
        "    \"Koo Ja-Cheol\",\n",
        "    \"(1989-02-27)27 February 1989 (aged 25)\",\n",
        "    \"35\",\n",
        "    \"Mainz 05\",\n",
        "    \"South Korea\",\n",
        "    \"Germany\",\n",
        "    \"2014\"\n",
        "  ],\n",
        "  [\n",
        "    \"-\",\n",
        "    \"FW\",\n",
        "    \"Kim Shin-Wook\",\n",
        "    \"(1988-04-14)14 April 1988 (aged 26)\",\n",
        "    \"26\",\n",
        "    \"Ulsan Hyundai\",\n",
        "    \"South Korea\",\n",
        "    \"South Korea\",\n",
        "    \"2014\"\n",
        "  ]\n",
        "]"
      ],
      "execution_count": 0,
      "outputs": []
    },
    {
      "metadata": {
        "id": "ixR5AqQ6raBK",
        "colab_type": "code",
        "colab": {
          "autoexec": {
            "startup": false,
            "wait_interval": 0
          },
          "base_uri": "https://localhost:8080/",
          "height": 478
        },
        "outputId": "b85b3208-0876-4374-9f84-77c9ce1ae226",
        "executionInfo": {
          "status": "ok",
          "timestamp": 1523843184099,
          "user_tz": -480,
          "elapsed": 820,
          "user": {
            "displayName": "Wendy Kong",
            "photoUrl": "https://lh3.googleusercontent.com/a/default-user=s128",
            "userId": "118033892266702832734"
          }
        }
      },
      "cell_type": "code",
      "source": [
        "# Print interesting results from assignment 2\n",
        "playersByPosition = players_by_position(SQUADS_DATA)\n",
        "\n",
        "print(\"Found\",len(playersByPosition),\"positions in total:\", str(playersByPosition.keys()).replace(\"dict_keys\", \"\"))\n",
        "print(\"\\n\")\n",
        "  \n",
        "yVals = []\n",
        "\n",
        "for position in playersByPosition:\n",
        "  players = playersByPosition[position]\n",
        "  \n",
        "  print_total_players_by_position(position, len(players))\n",
        "  \n",
        "  yVals.append(len(players)) \n",
        "\n",
        "# visualise assignment 2: x = position, y = number of positions\n",
        "colors = ['#CAF270', '#73D487', '#30B096', '#288993', '#40607A', '#453B52']\n",
        "plt.bar(range(len(playersByPosition)), yVals, align='center', color = colors)\n",
        "plt.xticks(range(len(playersByPosition)), list(playersByPosition.keys()))\n",
        "plt.yticks(np.arange(9))\n",
        "plt.xlabel(\"Football position\")\n",
        "plt.ylabel(\"Number of players\")\n",
        "\n",
        "plt.show()"
      ],
      "execution_count": 2,
      "outputs": [
        {
          "output_type": "stream",
          "text": [
            "Found 4 positions in total: (['FB', 'GK', 'FW', 'MF'])\n",
            "\n",
            "\n",
            "Position FB : 1 players(s)\n",
            "Position GK : 3 players(s)\n",
            "Position FW : 4 players(s)\n",
            "Position MF : 8 players(s)\n"
          ],
          "name": "stdout"
        },
        {
          "output_type": "display_data",
          "data": {
            "image/png": "[encoded data removed]",
            "text/plain": [
              "<matplotlib.figure.Figure at 0x7fca942ff4a8>"
            ]
          },
          "metadata": {
            "tags": []
          }
        }
      ]
    },
    {
      "metadata": {
        "id": "JOhGkJfzWFGZ",
        "colab_type": "code",
        "colab": {
          "autoexec": {
            "startup": false,
            "wait_interval": 0
          },
          "base_uri": "https://localhost:8080/",
          "height": 612
        },
        "outputId": "cf06770c-7bd0-47ee-85e9-4fa89a5cb0e1",
        "executionInfo": {
          "status": "ok",
          "timestamp": 1523843293730,
          "user_tz": -480,
          "elapsed": 1154,
          "user": {
            "displayName": "Wendy Kong",
            "photoUrl": "https://lh3.googleusercontent.com/a/default-user=s128",
            "userId": "118033892266702832734"
          }
        }
      },
      "cell_type": "code",
      "source": [
        "# helper function: categorize players by the year in which they started playing\n",
        "def filterPlayersByYear(year, op, playersByPosition):\n",
        "  totalPlayers = {}\n",
        "  for position in playersByPosition:\n",
        "    \n",
        "    playersInPosition = playersByPosition[position]\n",
        "    playersBeforeYear = 0\n",
        "    for player in playersInPosition:\n",
        "      \n",
        "      if op(int(player['year']), year):\n",
        "        playersBeforeYear +=1\n",
        "    \n",
        "    totalPlayers[position] = playersBeforeYear\n",
        "    \n",
        "    print_total_players_by_position(position, playersBeforeYear)\n",
        "  \n",
        "  return totalPlayers\n",
        "\n",
        "print(\"Players who started before 2000\")\n",
        "before2000dict = filterPlayersByYear(2000, operator.lt, playersByPosition)\n",
        "print(\"\\n\")\n",
        "print(\"Players who started after 2000\")\n",
        "after2000dict = filterPlayersByYear(2000, operator.ge, playersByPosition)\n",
        "print(\"\\n\")\n",
        "\n",
        "xValsRange = range(len(before2000dict))\n",
        "xVals = list(before2000dict.keys())\n",
        "\n",
        "playersBefore2000 = plt.bar(sorted(xVals), list(before2000dict.values()), color='#94618e')\n",
        "playersAfter2000 = plt.bar(sorted(xVals), list(after2000dict.values()), bottom=list(before2000dict.values()), color='#49274a')\n",
        "\n",
        "plt.xticks(xValsRange, xVals)\n",
        "plt.yticks(np.arange(9))\n",
        "plt.xlabel(\"Football position\")\n",
        "plt.ylabel(\"Number of players\")\n",
        "\n",
        "plt.legend((playersBefore2000[0], playersAfter2000[0]), ('Started before 2000', 'Started after 2000'))"
      ],
      "execution_count": 3,
      "outputs": [
        {
          "output_type": "stream",
          "text": [
            "Players who started before 2000\n",
            "Position FB : 1 players(s)\n",
            "Position GK : 3 players(s)\n",
            "Position FW : 1 players(s)\n",
            "Position MF : 2 players(s)\n",
            "\n",
            "\n",
            "Players who started after 2000\n",
            "Position FB : 0 players(s)\n",
            "Position GK : 0 players(s)\n",
            "Position FW : 3 players(s)\n",
            "Position MF : 6 players(s)\n",
            "\n",
            "\n"
          ],
          "name": "stdout"
        },
        {
          "output_type": "execute_result",
          "data": {
            "text/plain": [
              "<matplotlib.legend.Legend at 0x7fca921a5080>"
            ]
          },
          "metadata": {
            "tags": []
          },
          "execution_count": 3
        },
        {
          "output_type": "display_data",
          "data": {
            "image/png": "[encoded data removed]",
            "text/plain": [
              "<matplotlib.figure.Figure at 0x7fca94357b70>"
            ]
          },
          "metadata": {
            "tags": []
          }
        }
      ]
    },
    {
      "metadata": {
        "id": "vPqkRYdpX3vx",
        "colab_type": "code",
        "colab": {
          "autoexec": {
            "startup": false,
            "wait_interval": 0
          },
          "base_uri": "https://localhost:8080/",
          "height": 817
        },
        "outputId": "12193fc2-6214-4fdf-c9ac-468f3cd51a59",
        "executionInfo": {
          "status": "ok",
          "timestamp": 1523843310757,
          "user_tz": -480,
          "elapsed": 924,
          "user": {
            "displayName": "Wendy Kong",
            "photoUrl": "https://lh3.googleusercontent.com/a/default-user=s128",
            "userId": "118033892266702832734"
          }
        }
      },
      "cell_type": "code",
      "source": [
        "# print interesting results from Assignment 3\n",
        "playersByCountryAndPos = players_by_country_and_position(SQUADS_DATA)\n",
        "print(\"Found\",len(playersByCountryAndPos),\"countries in total:\", str(playersByCountryAndPos.keys()).replace(\"dict_keys\", \"\"))\n",
        "print(\"\\n\")\n",
        "  \n",
        "yVals = []\n",
        "\n",
        "for country in playersByCountryAndPos:\n",
        "  \n",
        "  positions = playersByCountryAndPos[country].keys()\n",
        "  \n",
        "  print(\"Found\", len(positions), \"position(s) for\", country, \":\", str(playersByCountryAndPos[country].keys()).replace(\"dict_keys\", \"\"))\n",
        "  \n",
        "  yVals.append(len(positions))\n",
        "  \n",
        "  for position in positions:\n",
        "    player = playersByCountryAndPos[country][position][0]['name']\n",
        "    print(position, \"is\", player)\n",
        "   \n",
        "  print(\"\\n\")  \n",
        "\n",
        "# visualise assignment 3: x = country, y = number of players (try putting 2 in the same position - what happens?)\n",
        "colors = ['#FF80AB', '#FF4081', '#F50057', '#C51162', '#88014F']\n",
        "plt.bar(range(len(playersByCountryAndPos)), yVals, align='center', color = colors)\n",
        "plt.xticks(range(len(playersByCountryAndPos)), list(playersByCountryAndPos.keys()))\n",
        "plt.yticks(np.arange(6))\n",
        "plt.xlabel(\"Country\")\n",
        "plt.ylabel(\"Number of players\")\n",
        "\n",
        "plt.show()"
      ],
      "execution_count": 4,
      "outputs": [
        {
          "output_type": "stream",
          "text": [
            "dict_keys(['Brazil', 'Malaysia', 'Argentina', 'Belgium', 'South Korea'])\n",
            "Found 5 countries in total: (['Brazil', 'Malaysia', 'Argentina', 'Belgium', 'South Korea'])\n",
            "\n",
            "\n",
            "Found 2 position(s) for Brazil : (['FB', 'MF'])\n",
            "FB is Pascal\n",
            "MF is Oscar\n",
            "\n",
            "\n",
            "Found 1 position(s) for Malaysia : (['GK'])\n",
            "GK is Raimi\n",
            "\n",
            "\n",
            "Found 2 position(s) for Argentina : (['GK', 'FW'])\n",
            "GK is Juan Botasso\n",
            "FW is Roberto Cherro\n",
            "\n",
            "\n",
            "Found 2 position(s) for Belgium : (['MF', 'GK'])\n",
            "MF is Pierre Braine\n",
            "GK is Jean De Bie\n",
            "\n",
            "\n",
            "Found 1 position(s) for South Korea : (['FW'])\n",
            "FW is Lee Keun-Ho\n",
            "\n",
            "\n"
          ],
          "name": "stdout"
        },
        {
          "output_type": "display_data",
          "data": {
            "image/png": "[encoded data removed]",
            "text/plain": [
              "<matplotlib.figure.Figure at 0x7fca942b8cf8>"
            ]
          },
          "metadata": {
            "tags": []
          }
        }
      ]
    },
    {
      "metadata": {
        "id": "eiFD6PhNXbD-",
        "colab_type": "code",
        "colab": {
          "autoexec": {
            "startup": false,
            "wait_interval": 0
          },
          "base_uri": "https://localhost:8080/",
          "height": 347
        },
        "outputId": "70665dce-e52d-4e7c-cc39-4237fbbf86f4",
        "executionInfo": {
          "status": "ok",
          "timestamp": 1523843315487,
          "user_tz": -480,
          "elapsed": 940,
          "user": {
            "displayName": "Wendy Kong",
            "photoUrl": "https://lh3.googleusercontent.com/a/default-user=s128",
            "userId": "118033892266702832734"
          }
        }
      },
      "cell_type": "code",
      "source": [
        "# visualise assignment 3: x = country, y = number of players, sorted by position\n",
        "countries = []\n",
        "positions = []\n",
        "playerNames = []\n",
        "\n",
        "for country in playersByCountryAndPos:\n",
        "  for position in playersByCountryAndPos[country]:\n",
        "    countries.append(country)\n",
        "    positions.append(position)\n",
        "    playerNames.append(playersByCountryAndPos[country][position][0]['name'])\n",
        "\n",
        "plt.scatter(countries, positions)\n",
        "\n",
        "for i, txt in enumerate(playerNames):\n",
        "    plt.annotate(txt, (countries[i],positions[i]))\n",
        "    \n",
        "plt.show()\n"
      ],
      "execution_count": 5,
      "outputs": [
        {
          "output_type": "display_data",
          "data": {
            "image/png": "[encoded data removed]",
            "text/plain": [
              "<matplotlib.figure.Figure at 0x7fca94290668>"
            ]
          },
          "metadata": {
            "tags": []
          }
        }
      ]
    }
  ]
}
